{
 "cells": [
  {
   "cell_type": "markdown",
   "metadata": {},
   "source": [
    "handwritten digit recognition example using adaboost classifier "
   ]
  },
  {
   "cell_type": "code",
   "execution_count": 6,
   "metadata": {},
   "outputs": [],
   "source": [
    "import pandas as pd\n",
    "import numpy as np\n",
    "import matplotlib.pyplot as plt\n",
    "\n",
    "from sklearn.ensemble import AdaBoostClassifier\n",
    "from sklearn.tree import DecisionTreeClassifier\n",
    "\n",
    "from sklearn.metrics import accuracy_score\n",
    "from sklearn.model_selection import cross_val_score\n",
    "# from sklearn.model_selection import cross_val_predict\n",
    "# from sklearn.model_selection import train_test_split\n",
    "# from sklearn.model_selection import learning_curve\n",
    "\n",
    "from sklearn.datasets import load_digits"
   ]
  },
  {
   "cell_type": "code",
   "execution_count": 7,
   "metadata": {},
   "outputs": [
    {
     "name": "stdout",
     "output_type": "stream",
     "text": [
      "(1797, 64)\n"
     ]
    },
    {
     "data": {
      "image/png": "[encoded data removed]",
      "text/plain": [
       "<Figure size 432x288 with 1 Axes>"
      ]
     },
     "metadata": {
      "needs_background": "light"
     },
     "output_type": "display_data"
    }
   ],
   "source": [
    "dataset = load_digits()\n",
    "print(dataset.data.shape)\n",
    "# plt.gray() \n",
    "plt.imshow(dataset.images[5].reshape(8,8)) \n",
    "plt.show() "
   ]
  },
  {
   "cell_type": "code",
   "execution_count": 8,
   "metadata": {},
   "outputs": [],
   "source": [
    "X = dataset.data\n",
    "y = dataset.target"
   ]
  },
  {
   "cell_type": "code",
   "execution_count": 9,
   "metadata": {},
   "outputs": [
    {
     "name": "stdout",
     "output_type": "stream",
     "text": [
      "[0.24916944 0.27045075 0.26677852]\n",
      "[0.48172757 0.56928214 0.34899329]\n",
      "[0.93853821 0.97161937 0.9295302 ]\n",
      "[0.79900332 0.87145242 0.82214765]\n"
     ]
    }
   ],
   "source": [
    "score = []\n",
    "for depth in [1,2,10, 12] : \n",
    "    reg_ada = AdaBoostClassifier(DecisionTreeClassifier(max_depth=depth))\n",
    "    scores_ada = cross_val_score(reg_ada, X, y, cv=3) # cross-validation = 3 \n",
    "    print(scores_ada)\n",
    "    score.append(scores_ada.mean())"
   ]
  },
  {
   "cell_type": "code",
   "execution_count": 10,
   "metadata": {},
   "outputs": [
    {
     "name": "stdout",
     "output_type": "stream",
     "text": [
      "[0.2621329033193222, 0.4666676667454197, 0.9465625909772323, 0.8308677979890055]\n"
     ]
    }
   ],
   "source": [
    "print(score) # max occurs on max_depth=10, larger depth could cause overfitting. "
   ]
  },
  {
   "cell_type": "markdown",
   "metadata": {},
   "source": [
    "ref:\n",
    "https://towardsdatascience.com/boosting-and-adaboost-clearly-explained-856e21152d3e"
   ]
  }
 ],
 "metadata": {
  "kernelspec": {
   "display_name": "Python 3",
   "language": "python",
   "name": "python3"
  },
  "language_info": {
   "codemirror_mode": {
    "name": "ipython",
    "version": 3
   },
   "file_extension": ".py",
   "mimetype": "text/x-python",
   "name": "python",
   "nbconvert_exporter": "python",
   "pygments_lexer": "ipython3",
   "version": "3.7.3"
  }
 },
 "nbformat": 4,
 "nbformat_minor": 2
}
