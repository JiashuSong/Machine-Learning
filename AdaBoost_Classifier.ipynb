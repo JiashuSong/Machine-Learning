{
 "cells": [
  {
   "cell_type": "markdown",
   "metadata": {},
   "source": [
    "# Example 1 :\n",
    "Handwritten digit recognition example using adaboost model and default decision tree base classifer"
   ]
  },
  {
   "cell_type": "markdown",
   "metadata": {},
   "source": [
    "Three key parameter of AdaBoostClassifier:\n",
    "-base_estimator: a weak learner used to train the model. gain from default DecisionTreeClassifier. can also specify different machine learning algorithms( svc for example 2)\n",
    "\n",
    "-n_estimators: # of weak learners to train iteratively.\n",
    "\n",
    "-learning_rate: It contributes to the weights of weak learners. default value =1 "
   ]
  },
  {
   "cell_type": "code",
   "execution_count": 1,
   "metadata": {},
   "outputs": [],
   "source": [
    "import pandas as pd\n",
    "import numpy as np\n",
    "import matplotlib.pyplot as plt\n",
    "\n",
    "from sklearn.ensemble import AdaBoostClassifier\n",
    "from sklearn.tree import DecisionTreeClassifier\n",
    "\n",
    "from sklearn.model_selection import cross_val_score\n",
    "# from sklearn.model_selection import cross_val_predict\n",
    "from sklearn.model_selection import train_test_split\n",
    "# from sklearn.model_selection import learning_curve\n",
    "\n",
    "from sklearn.datasets import load_digits, load_iris\n",
    "from sklearn.metrics import accuracy_score\n",
    "from sklearn.svm import SVC"
   ]
  },
  {
   "cell_type": "code",
   "execution_count": 2,
   "metadata": {},
   "outputs": [
    {
     "name": "stdout",
     "output_type": "stream",
     "text": [
      "(1797, 64)\n"
     ]
    },
    {
     "data": {
      "image/png": "[encoded data removed]",
      "text/plain": [
       "<Figure size 432x288 with 1 Axes>"
      ]
     },
     "metadata": {
      "needs_background": "light"
     },
     "output_type": "display_data"
    }
   ],
   "source": [
    "digits = load_digits()\n",
    "print(digits.data.shape)\n",
    "# plt.gray() \n",
    "plt.imshow(digits.images[5].reshape(8,8)) \n",
    "plt.show() "
   ]
  },
  {
   "cell_type": "code",
   "execution_count": 3,
   "metadata": {},
   "outputs": [],
   "source": [
    "X = digits.data\n",
    "y = digits.target"
   ]
  },
  {
   "cell_type": "code",
   "execution_count": 4,
   "metadata": {},
   "outputs": [
    {
     "name": "stdout",
     "output_type": "stream",
     "text": [
      "[0.24916944 0.27045075 0.26677852]\n",
      "[0.48172757 0.56928214 0.34899329]\n",
      "[0.92857143 0.96327212 0.93288591]\n",
      "[0.8089701  0.87145242 0.83724832]\n"
     ]
    }
   ],
   "source": [
    "score = []\n",
    "for depth in [1,2,10, 12] : \n",
    "    reg_ada = AdaBoostClassifier(DecisionTreeClassifier(max_depth=depth)) # use default DecisionTreeCliassifer\n",
    "    scores_ada = cross_val_score(reg_ada, X, y, cv=3) # cross-validation = 3 \n",
    "    print(scores_ada)\n",
    "    score.append(scores_ada.mean())"
   ]
  },
  {
   "cell_type": "code",
   "execution_count": 5,
   "metadata": {},
   "outputs": [
    {
     "name": "stdout",
     "output_type": "stream",
     "text": [
      "[0.2621329033193222, 0.4666676667454197, 0.9415764849373436, 0.8392236141721979]\n"
     ]
    }
   ],
   "source": [
    "print(score) # max occurs on max_depth=10, larger depth could cause overfitting. "
   ]
  },
  {
   "cell_type": "markdown",
   "metadata": {},
   "source": [
    "# Example 2 : IRIS case"
   ]
  },
  {
   "cell_type": "code",
   "execution_count": 6,
   "metadata": {},
   "outputs": [],
   "source": [
    "iris =load_iris()\n",
    "X = iris.data\n",
    "y = iris.target"
   ]
  },
  {
   "cell_type": "code",
   "execution_count": 7,
   "metadata": {},
   "outputs": [],
   "source": [
    "X_train, X_test, y_train, y_test = train_test_split(X, y, test_size=0.3) # 70% training and 30% test"
   ]
  },
  {
   "cell_type": "code",
   "execution_count": 8,
   "metadata": {},
   "outputs": [
    {
     "name": "stdout",
     "output_type": "stream",
     "text": [
      "Accuracy: 93.33%\n"
     ]
    }
   ],
   "source": [
    "#create the AdaBoost Model using Scikit-learn. AdaBoost uses C-Support Vector Classifier.\n",
    "svc=SVC(probability=True, kernel='linear') \n",
    "\n",
    "abc = AdaBoostClassifier(n_estimators=50,\n",
    "                         base_estimator=svc, # specify the ML algrothm as SVC\n",
    "                         learning_rate=1)\n",
    "# Train Adaboost Classifer\n",
    "model = abc.fit(X_train, y_train)\n",
    "\n",
    "#Predict the response for test dataset\n",
    "y_pred = model.predict(X_test)\n",
    "# print(\"Accuracy:\",accuracy_score(y_test, y_pred))\n",
    "\n",
    "print(\"Accuracy: {0:.2f}%\".format(accuracy_score(y_test, y_pred)*100))\n"
   ]
  },
  {
   "cell_type": "markdown",
   "metadata": {},
   "source": [
    "ref:\n",
    "https://towardsdatascience.com/boosting-and-adaboost-clearly-explained-856e21152d3e\n",
    "https://www.datacamp.com/community/tutorials/adaboost-classifier-python"
   ]
  }
 ],
 "metadata": {
  "kernelspec": {
   "display_name": "Python 3",
   "language": "python",
   "name": "python3"
  },
  "language_info": {
   "codemirror_mode": {
    "name": "ipython",
    "version": 3
   },
   "file_extension": ".py",
   "mimetype": "text/x-python",
   "name": "python",
   "nbconvert_exporter": "python",
   "pygments_lexer": "ipython3",
   "version": "3.7.3"
  }
 },
 "nbformat": 4,
 "nbformat_minor": 2
}
