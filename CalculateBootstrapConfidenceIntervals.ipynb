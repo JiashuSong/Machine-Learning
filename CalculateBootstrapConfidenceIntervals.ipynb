{
 "cells": [
  {
   "cell_type": "markdown",
   "metadata": {},
   "source": [
    "Bootstrap Method:\n",
    "1, select sample : randomly select samples from large dataset one at a time with replecement until reaching the chosen sample size. \n",
    "2, For each bootstrap sample, fit a model on the data sample\n",
    "3, Calulate the model accuracy score on out-of-bag observations. \n",
    "4, run repeatitions, calcuate the mean of model skill scores. \n",
    "For estimating a quantity of a population. "
   ]
  },
  {
   "cell_type": "code",
   "execution_count": 90,
   "metadata": {},
   "outputs": [],
   "source": [
    "import numpy as np \n",
    "import pandas as pd\n",
    "from sklearn.utils import resample \n",
    "from sklearn.tree import DecisionTreeClassifier\n",
    "from sklearn.metrics import accuracy_score\n",
    "from matplotlib import pyplot as plt "
   ]
  },
  {
   "cell_type": "code",
   "execution_count": 91,
   "metadata": {},
   "outputs": [
    {
     "name": "stdout",
     "output_type": "stream",
     "text": [
      "0.21.2\n"
     ]
    }
   ],
   "source": [
    "print(sklearn.__version__)"
   ]
  },
  {
   "cell_type": "code",
   "execution_count": 92,
   "metadata": {},
   "outputs": [
    {
     "data": {
      "text/html": [
       "<div>\n",
       "<style scoped>\n",
       "    .dataframe tbody tr th:only-of-type {\n",
       "        vertical-align: middle;\n",
       "    }\n",
       "\n",
       "    .dataframe tbody tr th {\n",
       "        vertical-align: top;\n",
       "    }\n",
       "\n",
       "    .dataframe thead th {\n",
       "        text-align: right;\n",
       "    }\n",
       "</style>\n",
       "<table border=\"1\" class=\"dataframe\">\n",
       "  <thead>\n",
       "    <tr style=\"text-align: right;\">\n",
       "      <th></th>\n",
       "      <th>admit</th>\n",
       "      <th>gre</th>\n",
       "      <th>gpa</th>\n",
       "      <th>rank</th>\n",
       "    </tr>\n",
       "  </thead>\n",
       "  <tbody>\n",
       "    <tr>\n",
       "      <th>0</th>\n",
       "      <td>0</td>\n",
       "      <td>380</td>\n",
       "      <td>3.61</td>\n",
       "      <td>3</td>\n",
       "    </tr>\n",
       "    <tr>\n",
       "      <th>1</th>\n",
       "      <td>1</td>\n",
       "      <td>660</td>\n",
       "      <td>3.67</td>\n",
       "      <td>3</td>\n",
       "    </tr>\n",
       "    <tr>\n",
       "      <th>2</th>\n",
       "      <td>1</td>\n",
       "      <td>800</td>\n",
       "      <td>4.00</td>\n",
       "      <td>1</td>\n",
       "    </tr>\n",
       "  </tbody>\n",
       "</table>\n",
       "</div>"
      ],
      "text/plain": [
       "   admit  gre   gpa  rank\n",
       "0      0  380  3.61     3\n",
       "1      1  660  3.67     3\n",
       "2      1  800  4.00     1"
      ]
     },
     "execution_count": 92,
     "metadata": {},
     "output_type": "execute_result"
    }
   ],
   "source": [
    "data = pd.read_csv('AdmissionDataUCLA.csv')\n",
    "# data = pd.read_csv('pima-indians-diabetes.data.csv', header = None)\n",
    "data.head(3)"
   ]
  },
  {
   "cell_type": "code",
   "execution_count": 93,
   "metadata": {},
   "outputs": [],
   "source": [
    "values = data.values # convert data from dataframe to ndarray "
   ]
  },
  {
   "cell_type": "code",
   "execution_count": 97,
   "metadata": {},
   "outputs": [],
   "source": [
    "# configure bootstrap two figures\n",
    "n_size = int(len(data)*0.70) # sample size\n",
    "n_iter = 1200 # num of repetitions"
   ]
  },
  {
   "cell_type": "code",
   "execution_count": 98,
   "metadata": {},
   "outputs": [],
   "source": [
    "# run bootstrap\n",
    "stats = []\n",
    "for i in range(n_iter): \n",
    "    # choose n_size of bootstrap samples as training dataset\n",
    "    train_data = resample(values, n_samples = n_size) # with replacement\n",
    "    \n",
    "    test_data = np.array([x for x in values if x.tolist() not in train_data.tolist()])\n",
    "    # fit decsion tree model \n",
    "    model = DecisionTreeClassifier()\n",
    "    model.fit(train_data[:, 1:], train_data[:,0]) # 1st col is targe col.\n",
    "    predictions = model.predict(test_data[:,1:]) # model predictions\n",
    "    score = accuracy_score(test_data[:,0], predictions) #\n",
    "    stats.append(score)"
   ]
  },
  {
   "cell_type": "code",
   "execution_count": 99,
   "metadata": {},
   "outputs": [
    {
     "data": {
      "image/png": "[encoded data removed]",
      "text/plain": [
       "<Figure size 432x288 with 1 Axes>"
      ]
     },
     "metadata": {
      "needs_background": "light"
     },
     "output_type": "display_data"
    },
    {
     "name": "stdout",
     "output_type": "stream",
     "text": [
      "95.0 confidence interval 54.3% and 67.5%\n"
     ]
    }
   ],
   "source": [
    "# plot score distribution , expect gaussian distribution, perhaps with a skew\n",
    "plt.hist(stats, bins = 16)\n",
    "plt.show()\n",
    "\n",
    "#calculate 95% confidence interval \n",
    "alpha = 0.95\n",
    "p_l = ((1.0-alpha)/2.0)*100  # 0.025\n",
    "p_u = (alpha+ ((1.0-alpha)/2.0))*100  # 0.975\n",
    "l_bound = max(0.0, np.percentile(stats, p_l))\n",
    "u_bound = min(1.0, np.percentile(stats, p_u))\n",
    "print('%.1f confidence interval %.1f%% and %.1f%%' % (alpha*100, l_bound*100, u_bound*100))\n",
    "    "
   ]
  },
  {
   "cell_type": "markdown",
   "metadata": {},
   "source": [
    "ref: \n",
    "    https://machinelearningmastery.com/calculate-bootstrap-confidence-intervals-machine-learning-results-python/"
   ]
  }
 ],
 "metadata": {
  "kernelspec": {
   "display_name": "Python 3",
   "language": "python",
   "name": "python3"
  },
  "language_info": {
   "codemirror_mode": {
    "name": "ipython",
    "version": 3
   },
   "file_extension": ".py",
   "mimetype": "text/x-python",
   "name": "python",
   "nbconvert_exporter": "python",
   "pygments_lexer": "ipython3",
   "version": "3.7.3"
  }
 },
 "nbformat": 4,
 "nbformat_minor": 2
}
